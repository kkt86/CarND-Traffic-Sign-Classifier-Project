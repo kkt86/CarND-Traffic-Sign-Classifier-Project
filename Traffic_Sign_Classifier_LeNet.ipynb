{
 "cells": [
  {
   "cell_type": "markdown",
   "metadata": {
    "collapsed": true
   },
   "source": [
    "# Self-Driving Car Engineer Nanodegree\n",
    "\n",
    "## Project: Build a Traffic Sign Recognition Classifier\n",
    "\n",
    "In this notebook, I am solving the second project in the Udacity nanodegree program (Traffic Sign Recognition Classifier)  "
   ]
  },
  {
   "cell_type": "markdown",
   "metadata": {},
   "source": [
    "---\n",
    "## Step 0: Load The Data"
   ]
  },
  {
   "cell_type": "code",
   "execution_count": 1,
   "metadata": {},
   "outputs": [
    {
     "name": "stdout",
     "output_type": "stream",
     "text": [
      "Train data shape: (34799, 32, 32, 3)\n",
      "Validation data shape: (34799, 32, 32, 3)\n",
      "Test data shape: (34799, 32, 32, 3)\n"
     ]
    }
   ],
   "source": [
    "# Load pickled data\n",
    "import pickle\n",
    "\n",
    "# load data /assuming that data/get_data.sh has been already run\n",
    "training_file = 'data/train.p'\n",
    "validation_file = 'data/valid.p'\n",
    "testing_file = 'data/test.p'\n",
    "\n",
    "with open(training_file, mode='rb') as f:\n",
    "    train = pickle.load(f)\n",
    "with open(validation_file, mode='rb') as f:\n",
    "    valid = pickle.load(f)\n",
    "with open(testing_file, mode='rb') as f:\n",
    "    test = pickle.load(f)\n",
    "    \n",
    "X_train, y_train = train['features'], train['labels']\n",
    "X_valid, y_valid = valid['features'], valid['labels']\n",
    "X_test, y_test = test['features'], test['labels']\n",
    "\n",
    "# check if lengths are the same\n",
    "assert(len(X_train) == len(y_train))\n",
    "assert(len(X_valid) == len(y_valid))\n",
    "assert(len(X_test) == len(y_test))\n",
    "\n",
    "# print some info\n",
    "print(\"Train data shape: {}\".format(X_train.shape))\n",
    "print(\"Validation data shape: {}\".format(X_train.shape))\n",
    "print(\"Test data shape: {}\".format(X_train.shape))"
   ]
  },
  {
   "cell_type": "code",
   "execution_count": 2,
   "metadata": {},
   "outputs": [
    {
     "name": "stdout",
     "output_type": "stream",
     "text": [
      "9\n"
     ]
    },
    {
     "data": {
      "image/png": "[encoded data removed]",
      "text/plain": [
       "<matplotlib.figure.Figure at 0x7f4d00272908>"
      ]
     },
     "metadata": {},
     "output_type": "display_data"
    }
   ],
   "source": [
    "# show random image\n",
    "import matplotlib.pyplot as plt\n",
    "from random import randint\n",
    "%matplotlib inline\n",
    "\n",
    "index = randint(0, len(X_train))\n",
    "image = X_train[index,:,:,:]\n",
    "sign = y_train[index]\n",
    "\n",
    "print(y_train[index])\n",
    "plt.imshow(image)\n",
    "plt.show()"
   ]
  },
  {
   "cell_type": "markdown",
   "metadata": {},
   "source": [
    "---\n",
    "\n",
    "## Step 1: Dataset Summary & Exploration\n",
    "\n",
    "The pickled data is a dictionary with 4 key/value pairs:\n",
    "\n",
    "- `'features'` is a 4D array containing raw pixel data of the traffic sign images, (num examples, width, height, channels).\n",
    "- `'labels'` is a 1D array containing the label/class id of the traffic sign. The file `signnames.csv` contains id -> name mappings for each id.\n",
    "- `'sizes'` is a list containing tuples, (width, height) representing the original width and height the image.\n",
    "- `'coords'` is a list containing tuples, (x1, y1, x2, y2) representing coordinates of a bounding box around the sign in the image. **THESE COORDINATES ASSUME THE ORIGINAL IMAGE. THE PICKLED DATA CONTAINS RESIZED VERSIONS (32 by 32) OF THESE IMAGES**\n",
    "\n",
    "Complete the basic data summary below. Use python, numpy and/or pandas methods to calculate the data summary rather than hard coding the results. For example, the [pandas shape method](http://pandas.pydata.org/pandas-docs/stable/generated/pandas.DataFrame.shape.html) might be useful for calculating some of the summary results. "
   ]
  },
  {
   "cell_type": "markdown",
   "metadata": {},
   "source": [
    "### Provide a Basic Summary of the Data Set Using Python, Numpy and/or Pandas"
   ]
  },
  {
   "cell_type": "code",
   "execution_count": 3,
   "metadata": {},
   "outputs": [
    {
     "name": "stdout",
     "output_type": "stream",
     "text": [
      "Number of training examples = 34799\n",
      "Number of testing examples = 12630\n",
      "Image data shape = (32, 32, 3)\n",
      "Number of classes = 43\n"
     ]
    }
   ],
   "source": [
    "### Replace each question mark with the appropriate value. \n",
    "### Use python, pandas or numpy methods rather than hard coding the results\n",
    "\n",
    "# Number of training examples\n",
    "n_train = len(X_train)\n",
    "\n",
    "# Number of validation examples\n",
    "n_validation = len(X_valid)\n",
    "\n",
    "# Number of testing examples.\n",
    "n_test = len(X_test)\n",
    "\n",
    "# What's the shape of an traffic sign image?\n",
    "image_shape = X_train[0,:,:,:].shape\n",
    "\n",
    "# How many unique classes/labels there are in the dataset.\n",
    "n_classes = len(set(y_train))\n",
    "\n",
    "print(\"Number of training examples =\", n_train)\n",
    "print(\"Number of testing examples =\", n_test)\n",
    "print(\"Image data shape =\", image_shape)\n",
    "print(\"Number of classes =\", n_classes)"
   ]
  },
  {
   "cell_type": "markdown",
   "metadata": {},
   "source": [
    "### Include an exploratory visualization of the dataset"
   ]
  },
  {
   "cell_type": "markdown",
   "metadata": {},
   "source": [
    "Visualize the German Traffic Signs Dataset using the pickled file(s). This is open ended, suggestions include: plotting traffic sign images, plotting the count of each sign, etc. \n",
    "\n",
    "The [Matplotlib](http://matplotlib.org/) [examples](http://matplotlib.org/examples/index.html) and [gallery](http://matplotlib.org/gallery.html) pages are a great resource for doing visualizations in Python.\n",
    "\n",
    "**NOTE:** It's recommended you start with something simple first. If you wish to do more, come back to it after you've completed the rest of the sections. It can be interesting to look at the distribution of classes in the training, validation and test set. Is the distribution the same? Are there more examples of some classes than others?"
   ]
  },
  {
   "cell_type": "code",
   "execution_count": 4,
   "metadata": {
    "collapsed": true
   },
   "outputs": [],
   "source": [
    "### Data exploration visualization code goes here.\n",
    "### Feel free to use as many code cells as needed.\n",
    "import matplotlib.pyplot as plt\n",
    "# Visualizations will be shown in the notebook.\n",
    "%matplotlib inline"
   ]
  },
  {
   "cell_type": "code",
   "execution_count": 5,
   "metadata": {},
   "outputs": [
    {
     "data": {
      "image/png": "[encoded data removed]",
      "text/plain": [
       "<matplotlib.figure.Figure at 0x7f4ccf1dd400>"
      ]
     },
     "metadata": {},
     "output_type": "display_data"
    }
   ],
   "source": [
    "# barplot of the count of signs in the tree sets\n",
    "from collections import Counter\n",
    "\n",
    "train_signs_counts = Counter(y_train)\n",
    "valid_signs_counts = Counter(y_valid)\n",
    "test_signs_counts = Counter(y_test)\n",
    "\n",
    "plt.figure(figsize=(15,4))\n",
    "plt.subplot(131)\n",
    "plt.bar(list(train_signs_counts.keys()), list(train_signs_counts.values()))\n",
    "plt.title(\"Train signs\")\n",
    "plt.subplot(132)\n",
    "plt.bar(list(valid_signs_counts.keys()), list(valid_signs_counts.values()))\n",
    "plt.title(\"Validation signs\")\n",
    "plt.subplot(133)\n",
    "plt.bar(list(test_signs_counts.keys()), list(test_signs_counts.values()))\n",
    "plt.title(\"Test signs\")\n",
    "plt.show()"
   ]
  },
  {
   "cell_type": "markdown",
   "metadata": {},
   "source": [
    "----\n",
    "\n",
    "## Step 2: Design and Test a Model Architecture\n",
    "\n",
    "Design and implement a deep learning model that learns to recognize traffic signs. Train and test your model on the [German Traffic Sign Dataset](http://benchmark.ini.rub.de/?section=gtsrb&subsection=dataset).\n",
    "\n",
    "The LeNet-5 implementation shown in the [classroom](https://classroom.udacity.com/nanodegrees/nd013/parts/fbf77062-5703-404e-b60c-95b78b2f3f9e/modules/6df7ae49-c61c-4bb2-a23e-6527e69209ec/lessons/601ae704-1035-4287-8b11-e2c2716217ad/concepts/d4aca031-508f-4e0b-b493-e7b706120f81) at the end of the CNN lesson is a solid starting point. You'll have to change the number of classes and possibly the preprocessing, but aside from that it's plug and play! \n",
    "\n",
    "With the LeNet-5 solution from the lecture, you should expect a validation set accuracy of about 0.89. To meet specifications, the validation set accuracy will need to be at least 0.93. It is possible to get an even higher accuracy, but 0.93 is the minimum for a successful project submission. \n",
    "\n",
    "There are various aspects to consider when thinking about this problem:\n",
    "\n",
    "- Neural network architecture (is the network over or underfitting?)\n",
    "- Play around preprocessing techniques (normalization, rgb to grayscale, etc)\n",
    "- Number of examples per label (some have more than others).\n",
    "- Generate fake data.\n",
    "\n",
    "Here is an example of a [published baseline model on this problem](http://yann.lecun.com/exdb/publis/pdf/sermanet-ijcnn-11.pdf). It's not required to be familiar with the approach used in the paper but, it's good practice to try to read papers like these."
   ]
  },
  {
   "cell_type": "markdown",
   "metadata": {},
   "source": [
    "### Pre-process the Data Set (normalization, grayscale, etc.)"
   ]
  },
  {
   "cell_type": "markdown",
   "metadata": {},
   "source": [
    "Minimally, the image data should be normalized so that the data has mean zero and equal variance. For image data, `(pixel - 128)/ 128` is a quick way to approximately normalize the data and can be used in this project. \n",
    "\n",
    "Other pre-processing steps are optional. You can try different techniques to see if it improves performance. \n",
    "\n",
    "Use the code cell (or multiple code cells, if necessary) to implement the first step of your project."
   ]
  },
  {
   "cell_type": "code",
   "execution_count": 6,
   "metadata": {
    "collapsed": true
   },
   "outputs": [],
   "source": [
    "### Preprocess the data here. It is required to normalize the data. Other preprocessing steps could include \n",
    "### converting to grayscale, etc.\n",
    "### Feel free to use as many code cells as needed.\n",
    "\n",
    "# convert rgb images to grayscale\n",
    "import numpy as np\n",
    "def rgb2gray(rgb):\n",
    "    return np.dot(rgb[...,:3], [0.299, 0.587, 0.114])\n",
    "\n",
    "X_train_gray = rgb2gray(X_train)\n",
    "X_valid_gray = rgb2gray(X_valid)\n",
    "X_test_gray = rgb2gray(X_test)\n",
    "\n",
    "# Normalize data\n",
    "X_train_preprocessed = (X_train_gray - 128)/128\n",
    "X_valid_preprocessed = (X_valid_gray - 128)/128\n",
    "X_test_preprocessed = (X_test_gray - 128)/128\n",
    "\n",
    "X_train_preprocessed = np.expand_dims(X_train_preprocessed, axis=3)\n",
    "X_valid_preprocessed = np.expand_dims(X_valid_preprocessed, axis=3)\n",
    "X_test_preprocessed = np.expand_dims(X_test_preprocessed, axis=3)"
   ]
  },
  {
   "cell_type": "markdown",
   "metadata": {},
   "source": [
    "### Model Architecture"
   ]
  },
  {
   "cell_type": "code",
   "execution_count": 7,
   "metadata": {
    "collapsed": true
   },
   "outputs": [],
   "source": [
    "### Define your architecture here.\n",
    "import tensorflow as tf\n",
    "from tensorflow.contrib.layers import flatten\n",
    "\n",
    "tf.reset_default_graph()\n",
    "\n",
    "def LeNet(x):\n",
    "    mu = 0\n",
    "    sigma = 0.1\n",
    "    weights = {\n",
    "        'wc1' : tf.Variable(tf.truncated_normal([5, 5, 1, 6], mu, sigma)),\n",
    "        'wc2' : tf.Variable(tf.truncated_normal([5, 5, 6, 16], mu, sigma)),\n",
    "        'fc1' : tf.Variable(tf.truncated_normal([400, 120], mu, sigma)),\n",
    "        'fc2' : tf.Variable(tf.truncated_normal([120, 80], mu, sigma)),\n",
    "        'out' : tf.Variable(tf.truncated_normal([80, 43], mu, sigma))\n",
    "    }\n",
    "    biases = {\n",
    "        'bc1' : tf.Variable(tf.truncated_normal([6], mu, sigma)),\n",
    "        'bc2' : tf.Variable(tf.truncated_normal([16], mu, sigma)),\n",
    "        'bfc1' : tf.Variable(tf.truncated_normal([120], mu, sigma)),\n",
    "        'bfc2' : tf.Variable(tf.truncated_normal([80], mu, sigma)),\n",
    "        'out' : tf.Variable(tf.truncated_normal([43], mu, sigma))\n",
    "    }\n",
    "    # Layer 1: convolutional layer\n",
    "    conv1 = tf.nn.conv2d(x, weights['wc1'], strides=[1, 1, 1, 1], padding='VALID')\n",
    "    conv1 = tf.nn.bias_add(conv1, biases['bc1'])\n",
    "    conv1 = tf.nn.relu(conv1)\n",
    "    \n",
    "    # Layer 2: avg pooling\n",
    "    pool1 = tf.nn.avg_pool(conv1, ksize=[1, 2, 2, 1], strides=[1, 2, 2, 1], padding='SAME')\n",
    "    \n",
    "    # Layer 3: convolutional layer\n",
    "    conv2 = tf.nn.conv2d(pool1, weights['wc2'], strides=[1, 1, 1, 1], padding='VALID')\n",
    "    conv2 = tf.nn.bias_add(conv2, biases['bc2'])\n",
    "    conv2 = tf.nn.relu(conv2)\n",
    "    \n",
    "    # Layer 4: avg pooling\n",
    "    pool2 = tf.nn.avg_pool(conv2, ksize=[1, 2, 2, 1], strides=[1, 2, 2, 1], padding='SAME')\n",
    "    \n",
    "    # Layer 5: flatten\n",
    "    flat = flatten(pool2)\n",
    "    \n",
    "    # Layer 6: Fully connected\n",
    "    fc1 = tf.add(tf.matmul(flat, weights['fc1']), biases['bfc1'])\n",
    "    fc1 = tf.nn.relu(fc1)\n",
    "    \n",
    "    # Layer 7: Fully connected\n",
    "    fc2 = tf.add(tf.matmul(fc1, weights['fc2']), biases['bfc2'])\n",
    "    fc2 = tf.nn.relu(fc2)\n",
    "    \n",
    "    # Layer 8: Fully connected\n",
    "    out = tf.add(tf.matmul(fc2, weights['out']), biases['out'])\n",
    "        \n",
    "    return out"
   ]
  },
  {
   "cell_type": "code",
   "execution_count": 8,
   "metadata": {
    "collapsed": true
   },
   "outputs": [],
   "source": [
    "# define placeholders \n",
    "x = tf.placeholder(tf.float32, [None, 32, 32, 1])\n",
    "y = tf.placeholder(tf.int32, [None])\n",
    "y_one_hot = tf.one_hot(y, 43)"
   ]
  },
  {
   "cell_type": "code",
   "execution_count": 9,
   "metadata": {
    "collapsed": true
   },
   "outputs": [],
   "source": [
    "# training pipeline\n",
    "EPOCHS = 30\n",
    "BATCH_SIZE = 128\n",
    "learning_rate = 0.0001\n",
    "\n",
    "logits = LeNet(x)\n",
    "cross_entropy = tf.nn.softmax_cross_entropy_with_logits(logits, y_one_hot)\n",
    "loss = tf.reduce_mean(cross_entropy)\n",
    "optimizer = tf.train.AdamOptimizer(learning_rate)\n",
    "train_step = optimizer.minimize(loss)\n",
    "\n",
    "# model evaluation\n",
    "correct_prediction = tf.equal(tf.argmax(logits, 1), tf.argmax(y_one_hot, 1))\n",
    "accuracy = tf.reduce_mean(tf.cast(correct_prediction, tf.float32))\n",
    "saver = tf.train.Saver()"
   ]
  },
  {
   "cell_type": "code",
   "execution_count": 10,
   "metadata": {
    "collapsed": true
   },
   "outputs": [],
   "source": [
    "def evaluate(X_data, y_data):\n",
    "    num_examples = len(X_data)\n",
    "    total_accuracy = 0\n",
    "    sess = tf.get_default_session()\n",
    "    for offset in range(0, num_examples, BATCH_SIZE):\n",
    "        batch_x, batch_y = X_data[offset:offset + BATCH_SIZE], y_data[offset:offset + BATCH_SIZE]\n",
    "        batch_accuracy = sess.run(accuracy, feed_dict={x: batch_x, y: batch_y})\n",
    "        total_accuracy += batch_accuracy*len(batch_x)\n",
    "    return total_accuracy/num_examples"
   ]
  },
  {
   "cell_type": "code",
   "execution_count": 11,
   "metadata": {
    "collapsed": true
   },
   "outputs": [],
   "source": [
    "train_writer = tf.summary.FileWriter('./summaries/lenet/plot_train')\n",
    "valid_writer = tf.summary.FileWriter('./summaries/lenet/plot_valid')\n",
    "\n",
    "tf.summary.scalar('accuracy', accuracy)\n",
    "tf.summary.scalar('loss', loss)\n",
    "write_op = tf.summary.merge_all()"
   ]
  },
  {
   "cell_type": "code",
   "execution_count": null,
   "metadata": {},
   "outputs": [
    {
     "name": "stdout",
     "output_type": "stream",
     "text": [
      "Training...\n",
      "\n",
      "EPOCH :   1, STEP :     0, Train Accuracy: 0.016 Train Loss: 3.789\n",
      "EPOCH :   1, STEP :   100, Train Accuracy: 0.047 Train Loss: 3.603\n",
      "EPOCH :   1, STEP :   200, Train Accuracy: 0.117 Train Loss: 3.330\n",
      "Validation Accuracy = 0.121\n",
      "EPOCH :   2, STEP :     0, Train Accuracy: 0.141 Train Loss: 3.169\n",
      "EPOCH :   2, STEP :   100, Train Accuracy: 0.188 Train Loss: 3.138\n",
      "EPOCH :   2, STEP :   200, Train Accuracy: 0.273 Train Loss: 2.841\n",
      "Validation Accuracy = 0.251\n",
      "EPOCH :   3, STEP :     0, Train Accuracy: 0.258 Train Loss: 2.773\n",
      "EPOCH :   3, STEP :   100, Train Accuracy: 0.328 Train Loss: 2.480\n",
      "EPOCH :   3, STEP :   200, Train Accuracy: 0.344 Train Loss: 2.498\n",
      "Validation Accuracy = 0.371\n",
      "EPOCH :   4, STEP :     0, Train Accuracy: 0.414 Train Loss: 1.961\n",
      "EPOCH :   4, STEP :   100, Train Accuracy: 0.539 Train Loss: 1.780\n",
      "EPOCH :   4, STEP :   200, Train Accuracy: 0.531 Train Loss: 1.655\n",
      "Validation Accuracy = 0.466\n",
      "EPOCH :   5, STEP :     0, Train Accuracy: 0.531 Train Loss: 1.573\n",
      "EPOCH :   5, STEP :   100, Train Accuracy: 0.680 Train Loss: 1.326\n",
      "EPOCH :   5, STEP :   200, Train Accuracy: 0.664 Train Loss: 1.347\n",
      "Validation Accuracy = 0.534\n",
      "EPOCH :   6, STEP :     0, Train Accuracy: 0.695 Train Loss: 1.142\n",
      "EPOCH :   6, STEP :   100, Train Accuracy: 0.617 Train Loss: 1.322\n",
      "EPOCH :   6, STEP :   200, Train Accuracy: 0.656 Train Loss: 1.216\n",
      "Validation Accuracy = 0.587\n",
      "EPOCH :   7, STEP :     0, Train Accuracy: 0.703 Train Loss: 1.107\n",
      "EPOCH :   7, STEP :   100, Train Accuracy: 0.680 Train Loss: 1.096\n",
      "EPOCH :   7, STEP :   200, Train Accuracy: 0.656 Train Loss: 1.214\n",
      "Validation Accuracy = 0.602\n",
      "EPOCH :   8, STEP :     0, Train Accuracy: 0.742 Train Loss: 0.928\n",
      "EPOCH :   8, STEP :   100, Train Accuracy: 0.703 Train Loss: 0.986\n",
      "EPOCH :   8, STEP :   200, Train Accuracy: 0.727 Train Loss: 0.908\n",
      "Validation Accuracy = 0.649\n",
      "EPOCH :   9, STEP :     0, Train Accuracy: 0.734 Train Loss: 0.942\n",
      "EPOCH :   9, STEP :   100, Train Accuracy: 0.688 Train Loss: 1.049\n",
      "EPOCH :   9, STEP :   200, Train Accuracy: 0.758 Train Loss: 0.822\n",
      "Validation Accuracy = 0.643\n",
      "EPOCH :  10, STEP :     0, Train Accuracy: 0.789 Train Loss: 0.811\n",
      "EPOCH :  10, STEP :   100, Train Accuracy: 0.758 Train Loss: 0.789\n",
      "EPOCH :  10, STEP :   200, Train Accuracy: 0.820 Train Loss: 0.712\n",
      "Validation Accuracy = 0.683\n",
      "EPOCH :  11, STEP :     0, Train Accuracy: 0.828 Train Loss: 0.754\n",
      "EPOCH :  11, STEP :   100, Train Accuracy: 0.773 Train Loss: 0.769\n",
      "EPOCH :  11, STEP :   200, Train Accuracy: 0.766 Train Loss: 0.740\n",
      "Validation Accuracy = 0.689\n",
      "EPOCH :  12, STEP :     0, Train Accuracy: 0.789 Train Loss: 0.772\n",
      "EPOCH :  12, STEP :   100, Train Accuracy: 0.797 Train Loss: 0.757\n",
      "EPOCH :  12, STEP :   200, Train Accuracy: 0.812 Train Loss: 0.572\n",
      "Validation Accuracy = 0.702\n",
      "EPOCH :  13, STEP :     0, Train Accuracy: 0.812 Train Loss: 0.660\n",
      "EPOCH :  13, STEP :   100, Train Accuracy: 0.875 Train Loss: 0.523\n",
      "EPOCH :  13, STEP :   200, Train Accuracy: 0.766 Train Loss: 0.750\n",
      "Validation Accuracy = 0.720\n",
      "EPOCH :  14, STEP :     0, Train Accuracy: 0.836 Train Loss: 0.625\n",
      "EPOCH :  14, STEP :   100, Train Accuracy: 0.906 Train Loss: 0.481\n",
      "EPOCH :  14, STEP :   200, Train Accuracy: 0.836 Train Loss: 0.585\n",
      "Validation Accuracy = 0.725\n",
      "EPOCH :  15, STEP :     0, Train Accuracy: 0.820 Train Loss: 0.531\n",
      "EPOCH :  15, STEP :   100, Train Accuracy: 0.852 Train Loss: 0.502\n",
      "EPOCH :  15, STEP :   200, Train Accuracy: 0.852 Train Loss: 0.472\n",
      "Validation Accuracy = 0.729\n",
      "EPOCH :  16, STEP :     0, Train Accuracy: 0.859 Train Loss: 0.497\n",
      "EPOCH :  16, STEP :   100, Train Accuracy: 0.867 Train Loss: 0.410\n",
      "EPOCH :  16, STEP :   200, Train Accuracy: 0.883 Train Loss: 0.524\n",
      "Validation Accuracy = 0.737\n",
      "EPOCH :  17, STEP :     0, Train Accuracy: 0.805 Train Loss: 0.634\n",
      "EPOCH :  17, STEP :   100, Train Accuracy: 0.828 Train Loss: 0.604\n",
      "EPOCH :  17, STEP :   200, Train Accuracy: 0.844 Train Loss: 0.554\n",
      "Validation Accuracy = 0.755\n",
      "EPOCH :  18, STEP :     0, Train Accuracy: 0.852 Train Loss: 0.506\n",
      "EPOCH :  18, STEP :   100, Train Accuracy: 0.891 Train Loss: 0.498\n",
      "EPOCH :  18, STEP :   200, Train Accuracy: 0.867 Train Loss: 0.494\n",
      "Validation Accuracy = 0.761\n",
      "EPOCH :  19, STEP :     0, Train Accuracy: 0.891 Train Loss: 0.370\n",
      "EPOCH :  19, STEP :   100, Train Accuracy: 0.844 Train Loss: 0.528\n",
      "EPOCH :  19, STEP :   200, Train Accuracy: 0.844 Train Loss: 0.685\n",
      "Validation Accuracy = 0.772\n",
      "EPOCH :  20, STEP :     0, Train Accuracy: 0.852 Train Loss: 0.549\n",
      "EPOCH :  20, STEP :   100, Train Accuracy: 0.930 Train Loss: 0.341\n",
      "EPOCH :  20, STEP :   200, Train Accuracy: 0.883 Train Loss: 0.563\n",
      "Validation Accuracy = 0.764\n",
      "EPOCH :  21, STEP :     0, Train Accuracy: 0.820 Train Loss: 0.704\n",
      "EPOCH :  21, STEP :   100, Train Accuracy: 0.898 Train Loss: 0.439\n",
      "EPOCH :  21, STEP :   200, Train Accuracy: 0.938 Train Loss: 0.259\n",
      "Validation Accuracy = 0.772\n",
      "EPOCH :  22, STEP :     0, Train Accuracy: 0.898 Train Loss: 0.322\n",
      "EPOCH :  22, STEP :   100, Train Accuracy: 0.859 Train Loss: 0.463\n",
      "EPOCH :  22, STEP :   200, Train Accuracy: 0.922 Train Loss: 0.314\n",
      "Validation Accuracy = 0.774\n",
      "EPOCH :  23, STEP :     0, Train Accuracy: 0.906 Train Loss: 0.477\n",
      "EPOCH :  23, STEP :   100, Train Accuracy: 0.922 Train Loss: 0.396\n",
      "EPOCH :  23, STEP :   200, Train Accuracy: 0.844 Train Loss: 0.643\n",
      "Validation Accuracy = 0.784\n",
      "EPOCH :  24, STEP :     0, Train Accuracy: 0.922 Train Loss: 0.339\n",
      "EPOCH :  24, STEP :   100, Train Accuracy: 0.883 Train Loss: 0.385\n",
      "EPOCH :  24, STEP :   200, Train Accuracy: 0.875 Train Loss: 0.446\n",
      "Validation Accuracy = 0.788\n",
      "EPOCH :  25, STEP :     0, Train Accuracy: 0.891 Train Loss: 0.378\n",
      "EPOCH :  25, STEP :   100, Train Accuracy: 0.922 Train Loss: 0.318\n",
      "EPOCH :  25, STEP :   200, Train Accuracy: 0.930 Train Loss: 0.316\n",
      "Validation Accuracy = 0.773\n",
      "EPOCH :  26, STEP :     0, Train Accuracy: 0.930 Train Loss: 0.348\n",
      "EPOCH :  26, STEP :   100, Train Accuracy: 0.961 Train Loss: 0.271\n",
      "EPOCH :  26, STEP :   200, Train Accuracy: 0.867 Train Loss: 0.394\n",
      "Validation Accuracy = 0.793\n",
      "EPOCH :  27, STEP :     0, Train Accuracy: 0.898 Train Loss: 0.336\n",
      "EPOCH :  27, STEP :   100, Train Accuracy: 0.938 Train Loss: 0.244\n",
      "EPOCH :  27, STEP :   200, Train Accuracy: 0.891 Train Loss: 0.612\n"
     ]
    }
   ],
   "source": [
    "# train the model\n",
    "from sklearn.utils import shuffle\n",
    "import random\n",
    "\n",
    "with tf.Session() as sess:\n",
    "    sess.run(tf.global_variables_initializer())\n",
    "    num_examples = len(X_train)\n",
    "    \n",
    "    \n",
    "    print(\"Training...\")\n",
    "    print()\n",
    "    for i in range(EPOCHS):\n",
    "        X_train_preprocessed, y_train = shuffle(X_train_preprocessed, y_train)\n",
    "        \n",
    "        for counter, offset in enumerate(range(0, num_examples, BATCH_SIZE)):\n",
    "            batch_x, batch_y = X_train_preprocessed[offset: offset + BATCH_SIZE], y_train[offset: offset + BATCH_SIZE]\n",
    "            merge = tf.summary.merge_all()\n",
    "            batch_loss, batch_acc, _ = sess.run([loss, accuracy, train_step], \n",
    "                                                 feed_dict={x: batch_x, y: batch_y})\n",
    "            if counter % 100 == 0:\n",
    "                print(\"EPOCH : {:>3}, STEP : {:>5}, Train Accuracy: {:.3f} Train Loss: {:.3f}\".\n",
    "                      format(i+1, counter,batch_acc, batch_loss))\n",
    "                \n",
    "        # log training and validation accuracy\n",
    "        train_index = random.sample(range(num_examples), 5000)\n",
    "        summary = sess.run(write_op, feed_dict={x: X_train_preprocessed[train_index], y: y_train[train_index]})\n",
    "        train_writer.add_summary(summary, i)\n",
    "        train_writer.flush()\n",
    "        \n",
    "        summary = sess.run(write_op, feed_dict={x: X_valid_preprocessed, y: y_valid})\n",
    "        valid_writer.add_summary(summary, i)\n",
    "        valid_writer.flush()\n",
    "        \n",
    "        validation_accuracy = evaluate(X_valid_preprocessed, y_valid)\n",
    "        print(\"Validation Accuracy = {:.3f}\".format(validation_accuracy))"
   ]
  },
  {
   "cell_type": "code",
   "execution_count": null,
   "metadata": {
    "collapsed": true
   },
   "outputs": [],
   "source": []
  }
 ],
 "metadata": {
  "kernelspec": {
   "display_name": "Python 3",
   "language": "python",
   "name": "python3"
  },
  "language_info": {
   "codemirror_mode": {
    "name": "ipython",
    "version": 3
   },
   "file_extension": ".py",
   "mimetype": "text/x-python",
   "name": "python",
   "nbconvert_exporter": "python",
   "pygments_lexer": "ipython3",
   "version": "3.5.2"
  },
  "widgets": {
   "state": {},
   "version": "1.1.2"
  }
 },
 "nbformat": 4,
 "nbformat_minor": 2
}
