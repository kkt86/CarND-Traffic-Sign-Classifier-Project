{
 "cells": [
  {
   "cell_type": "markdown",
   "metadata": {},
   "source": [
    "# Self-Driving Car Engineer Nanodegree\n",
    "\n",
    "## Project: Build a Traffic Sign Recognition Classifier\n",
    "\n",
    "In this notebook, I am solving the second project in the Udacity nanodegree program (Traffic Sign Recognition Classifier)  "
   ]
  },
  {
   "cell_type": "markdown",
   "metadata": {},
   "source": [
    "---\n",
    "## Step 0: Load The Data"
   ]
  },
  {
   "cell_type": "code",
   "execution_count": 1,
   "metadata": {},
   "outputs": [
    {
     "name": "stdout",
     "output_type": "stream",
     "text": [
      "Train data shape: (34799, 32, 32, 3)\n",
      "Validation data shape: (34799, 32, 32, 3)\n",
      "Test data shape: (34799, 32, 32, 3)\n"
     ]
    }
   ],
   "source": [
    "# Load pickled data\n",
    "import pickle\n",
    "\n",
    "# load data /assuming that data/get_data.sh has been already run\n",
    "training_file = 'data/train.p'\n",
    "validation_file = 'data/valid.p'\n",
    "testing_file = 'data/test.p'\n",
    "\n",
    "with open(training_file, mode='rb') as f:\n",
    "    train = pickle.load(f)\n",
    "with open(validation_file, mode='rb') as f:\n",
    "    valid = pickle.load(f)\n",
    "with open(testing_file, mode='rb') as f:\n",
    "    test = pickle.load(f)\n",
    "    \n",
    "X_train, y_train = train['features'], train['labels']\n",
    "X_valid, y_valid = valid['features'], valid['labels']\n",
    "X_test, y_test = test['features'], test['labels']\n",
    "\n",
    "# check if lengths are the same\n",
    "assert(len(X_train) == len(y_train))\n",
    "assert(len(X_valid) == len(y_valid))\n",
    "assert(len(X_test) == len(y_test))\n",
    "\n",
    "# print some info\n",
    "print(\"Train data shape: {}\".format(X_train.shape))\n",
    "print(\"Validation data shape: {}\".format(X_train.shape))\n",
    "print(\"Test data shape: {}\".format(X_train.shape))"
   ]
  },
  {
   "cell_type": "code",
   "execution_count": 2,
   "metadata": {},
   "outputs": [
    {
     "name": "stdout",
     "output_type": "stream",
     "text": [
      "4\n"
     ]
    },
    {
     "data": {
      "image/png": "[encoded data removed]",
      "text/plain": [
       "<matplotlib.figure.Figure at 0x7ff5e8d86828>"
      ]
     },
     "metadata": {},
     "output_type": "display_data"
    }
   ],
   "source": [
    "# show random image\n",
    "import matplotlib.pyplot as plt\n",
    "from random import randint\n",
    "%matplotlib inline\n",
    "\n",
    "index = randint(0, len(X_train))\n",
    "image = X_train[index,:,:,:]\n",
    "sign = y_train[index]\n",
    "\n",
    "print(y_train[index])\n",
    "plt.imshow(image)\n",
    "plt.show()"
   ]
  },
  {
   "cell_type": "markdown",
   "metadata": {},
   "source": [
    "---\n",
    "\n",
    "## Step 1: Dataset Summary & Exploration\n",
    "\n",
    "The pickled data is a dictionary with 4 key/value pairs:\n",
    "\n",
    "- `'features'` is a 4D array containing raw pixel data of the traffic sign images, (num examples, width, height, channels).\n",
    "- `'labels'` is a 1D array containing the label/class id of the traffic sign. The file `signnames.csv` contains id -> name mappings for each id.\n",
    "- `'sizes'` is a list containing tuples, (width, height) representing the original width and height the image.\n",
    "- `'coords'` is a list containing tuples, (x1, y1, x2, y2) representing coordinates of a bounding box around the sign in the image. **THESE COORDINATES ASSUME THE ORIGINAL IMAGE. THE PICKLED DATA CONTAINS RESIZED VERSIONS (32 by 32) OF THESE IMAGES**\n",
    "\n",
    "Complete the basic data summary below. Use python, numpy and/or pandas methods to calculate the data summary rather than hard coding the results. For example, the [pandas shape method](http://pandas.pydata.org/pandas-docs/stable/generated/pandas.DataFrame.shape.html) might be useful for calculating some of the summary results. "
   ]
  },
  {
   "cell_type": "markdown",
   "metadata": {},
   "source": [
    "### Provide a Basic Summary of the Data Set Using Python, Numpy and/or Pandas"
   ]
  },
  {
   "cell_type": "code",
   "execution_count": 3,
   "metadata": {},
   "outputs": [
    {
     "name": "stdout",
     "output_type": "stream",
     "text": [
      "Number of training examples = 34799\n",
      "Number of testing examples = 12630\n",
      "Image data shape = (32, 32, 3)\n",
      "Number of classes = 43\n"
     ]
    }
   ],
   "source": [
    "### Replace each question mark with the appropriate value. \n",
    "### Use python, pandas or numpy methods rather than hard coding the results\n",
    "\n",
    "# Number of training examples\n",
    "n_train = len(X_train)\n",
    "\n",
    "# Number of validation examples\n",
    "n_validation = len(X_valid)\n",
    "\n",
    "# Number of testing examples.\n",
    "n_test = len(X_test)\n",
    "\n",
    "# What's the shape of an traffic sign image?\n",
    "image_shape = X_train[0,:,:,:].shape\n",
    "\n",
    "# How many unique classes/labels there are in the dataset.\n",
    "n_classes = len(set(y_train))\n",
    "\n",
    "print(\"Number of training examples =\", n_train)\n",
    "print(\"Number of testing examples =\", n_test)\n",
    "print(\"Image data shape =\", image_shape)\n",
    "print(\"Number of classes =\", n_classes)"
   ]
  },
  {
   "cell_type": "markdown",
   "metadata": {},
   "source": [
    "### Include an exploratory visualization of the dataset"
   ]
  },
  {
   "cell_type": "markdown",
   "metadata": {},
   "source": [
    "Visualize the German Traffic Signs Dataset using the pickled file(s). This is open ended, suggestions include: plotting traffic sign images, plotting the count of each sign, etc. \n",
    "\n",
    "The [Matplotlib](http://matplotlib.org/) [examples](http://matplotlib.org/examples/index.html) and [gallery](http://matplotlib.org/gallery.html) pages are a great resource for doing visualizations in Python.\n",
    "\n",
    "**NOTE:** It's recommended you start with something simple first. If you wish to do more, come back to it after you've completed the rest of the sections. It can be interesting to look at the distribution of classes in the training, validation and test set. Is the distribution the same? Are there more examples of some classes than others?"
   ]
  },
  {
   "cell_type": "code",
   "execution_count": 4,
   "metadata": {
    "collapsed": true
   },
   "outputs": [],
   "source": [
    "### Data exploration visualization code goes here.\n",
    "### Feel free to use as many code cells as needed.\n",
    "import matplotlib.pyplot as plt\n",
    "# Visualizations will be shown in the notebook.\n",
    "%matplotlib inline"
   ]
  },
  {
   "cell_type": "code",
   "execution_count": 5,
   "metadata": {},
   "outputs": [
    {
     "data": {
      "image/png": "[encoded data removed]",
      "text/plain": [
       "<matplotlib.figure.Figure at 0x7ff5b9d2c128>"
      ]
     },
     "metadata": {},
     "output_type": "display_data"
    }
   ],
   "source": [
    "# barplot of the count of signs in the tree sets\n",
    "from collections import Counter\n",
    "\n",
    "train_signs_counts = Counter(y_train)\n",
    "valid_signs_counts = Counter(y_valid)\n",
    "test_signs_counts = Counter(y_test)\n",
    "\n",
    "plt.figure(figsize=(15,4))\n",
    "plt.subplot(131)\n",
    "plt.bar(list(train_signs_counts.keys()), list(train_signs_counts.values()))\n",
    "plt.title(\"Train signs\")\n",
    "plt.subplot(132)\n",
    "plt.bar(list(valid_signs_counts.keys()), list(valid_signs_counts.values()))\n",
    "plt.title(\"Validation signs\")\n",
    "plt.subplot(133)\n",
    "plt.bar(list(test_signs_counts.keys()), list(test_signs_counts.values()))\n",
    "plt.title(\"Test signs\")\n",
    "plt.show()"
   ]
  },
  {
   "cell_type": "markdown",
   "metadata": {},
   "source": [
    "----\n",
    "\n",
    "## Step 2: Design and Test a Model Architecture\n",
    "\n",
    "Design and implement a deep learning model that learns to recognize traffic signs. Train and test your model on the [German Traffic Sign Dataset](http://benchmark.ini.rub.de/?section=gtsrb&subsection=dataset).\n",
    "\n",
    "The LeNet-5 implementation shown in the [classroom](https://classroom.udacity.com/nanodegrees/nd013/parts/fbf77062-5703-404e-b60c-95b78b2f3f9e/modules/6df7ae49-c61c-4bb2-a23e-6527e69209ec/lessons/601ae704-1035-4287-8b11-e2c2716217ad/concepts/d4aca031-508f-4e0b-b493-e7b706120f81) at the end of the CNN lesson is a solid starting point. You'll have to change the number of classes and possibly the preprocessing, but aside from that it's plug and play! \n",
    "\n",
    "With the LeNet-5 solution from the lecture, you should expect a validation set accuracy of about 0.89. To meet specifications, the validation set accuracy will need to be at least 0.93. It is possible to get an even higher accuracy, but 0.93 is the minimum for a successful project submission. \n",
    "\n",
    "There are various aspects to consider when thinking about this problem:\n",
    "\n",
    "- Neural network architecture (is the network over or underfitting?)\n",
    "- Play around preprocessing techniques (normalization, rgb to grayscale, etc)\n",
    "- Number of examples per label (some have more than others).\n",
    "- Generate fake data.\n",
    "\n",
    "Here is an example of a [published baseline model on this problem](http://yann.lecun.com/exdb/publis/pdf/sermanet-ijcnn-11.pdf). It's not required to be familiar with the approach used in the paper but, it's good practice to try to read papers like these."
   ]
  },
  {
   "cell_type": "markdown",
   "metadata": {},
   "source": [
    "### Pre-process the Data Set (normalization, grayscale, etc.)"
   ]
  },
  {
   "cell_type": "markdown",
   "metadata": {},
   "source": [
    "Minimally, the image data should be normalized so that the data has mean zero and equal variance. For image data, `(pixel - 128)/ 128` is a quick way to approximately normalize the data and can be used in this project. \n",
    "\n",
    "Other pre-processing steps are optional. You can try different techniques to see if it improves performance. \n",
    "\n",
    "Use the code cell (or multiple code cells, if necessary) to implement the first step of your project."
   ]
  },
  {
   "cell_type": "code",
   "execution_count": 6,
   "metadata": {
    "collapsed": true
   },
   "outputs": [],
   "source": [
    "### Preprocess the data here. It is required to normalize the data. Other preprocessing steps could include \n",
    "### converting to grayscale, etc.\n",
    "### Feel free to use as many code cells as needed.\n",
    "\n",
    "# convert rgb images to grayscale\n",
    "import numpy as np\n",
    "def rgb2gray(rgb):\n",
    "    return np.dot(rgb[...,:3], [0.299, 0.587, 0.114])\n",
    "\n",
    "X_train_gray = rgb2gray(X_train)\n",
    "X_valid_gray = rgb2gray(X_valid)\n",
    "X_test_gray = rgb2gray(X_test)\n",
    "\n",
    "# Normalize data\n",
    "X_train_preprocessed = (X_train - 128)/128\n",
    "X_valid_preprocessed = (X_valid - 128)/128\n",
    "X_test_preprocessed = (X_test - 128)/128\n",
    "\n",
    "#X_train_preprocessed = np.expand_dims(X_train_preprocessed, axis=3)\n",
    "#X_valid_preprocessed = np.expand_dims(X_valid_preprocessed, axis=3)\n",
    "#X_test_preprocessed = np.expand_dims(X_test_preprocessed, axis=3)"
   ]
  },
  {
   "cell_type": "markdown",
   "metadata": {},
   "source": [
    "### Model Architecture"
   ]
  },
  {
   "cell_type": "code",
   "execution_count": 7,
   "metadata": {
    "collapsed": true
   },
   "outputs": [],
   "source": [
    "### Define your architecture here.\n",
    "import tensorflow as tf\n",
    "from tensorflow.contrib.layers import flatten\n",
    "\n",
    "tf.reset_default_graph()\n",
    "\n",
    "def inception2d(x, in_channel, filter_count, mu = 0, sigma = 0.1):\n",
    "    \"\"\"\n",
    "    This method creates an inception layer by combining 1x1, 3x3, 5x5 and avg_pooling layers\n",
    "    \"\"\"\n",
    "    # 1x1 \n",
    "    one_filter = tf.Variable(tf.truncated_normal([1, 1, in_channel, filter_count], mu, sigma))\n",
    "    one_by_one = tf.nn.conv2d(x, one_filter, strides=[1, 1, 1, 1], padding='SAME')\n",
    "    # 3x3\n",
    "    three_filter = tf.Variable(tf.truncated_normal([3, 3, in_channel, filter_count], mu, sigma))\n",
    "    three_by_three = tf.nn.conv2d(x, three_filter, strides=[1, 1, 1, 1], padding='SAME')\n",
    "    # 5x5\n",
    "    five_filter = tf.Variable(tf.truncated_normal([5, 5, in_channel, filter_count], mu, sigma))\n",
    "    five_by_five = tf.nn.conv2d(x, five_filter, strides=[1, 1, 1, 1], padding='SAME')\n",
    "    # avg pooling\n",
    "    pooling = tf.nn.avg_pool(x, ksize=[1, 3, 3, 1], strides=[1, 1, 1, 1], padding='SAME')\n",
    "    # concatenate layers\n",
    "    concat = tf.concat(values=[one_by_one, three_by_three, five_by_five, pooling], concat_dim=3)\n",
    "    # add bias and relu activation function\n",
    "    bias = tf.Variable(tf.truncated_normal([3*filter_count + in_channel], mu, sigma))\n",
    "    output = tf.nn.relu(tf.nn.bias_add(concat, bias)) \n",
    "    return output\n",
    "\n",
    "def Inception(x):\n",
    "    mu = 0\n",
    "    sigma = 0.1\n",
    "    weights = {\n",
    "        'wc1' : tf.Variable(tf.truncated_normal([5, 5, 3, 6], mu, sigma)),\n",
    "        'wc2' : tf.Variable(tf.truncated_normal([5, 5, 6, 16], mu, sigma)),\n",
    "        'fc1' : tf.Variable(tf.truncated_normal([850, 400], mu, sigma)),\n",
    "        'fc2' : tf.Variable(tf.truncated_normal([400, 80], mu, sigma)),\n",
    "        'out' : tf.Variable(tf.truncated_normal([80, 43], mu, sigma))\n",
    "    }\n",
    "    biases = {\n",
    "        'bc1' : tf.Variable(tf.truncated_normal([6], mu, sigma)),\n",
    "        'bc2' : tf.Variable(tf.truncated_normal([16], mu, sigma)),\n",
    "        'bfc1' : tf.Variable(tf.truncated_normal([400], mu, sigma)),\n",
    "        'bfc2' : tf.Variable(tf.truncated_normal([80], mu, sigma)),\n",
    "        'out' : tf.Variable(tf.truncated_normal([43], mu, sigma))\n",
    "    }\n",
    "    # Layer 1: convolutional layer\n",
    "    conv1 = tf.nn.conv2d(x, weights['wc1'], strides=[1, 1, 1, 1], padding='VALID')\n",
    "    conv1 = tf.nn.bias_add(conv1, biases['bc1'])\n",
    "    conv1 = tf.nn.relu(conv1)\n",
    "    # Layer 2: avg pooling\n",
    "    pool1 = tf.nn.avg_pool(conv1, ksize=[1, 2, 2, 1], strides=[1, 2, 2, 1], padding='SAME')\n",
    "    # Layer 3: convolutional layer\n",
    "    conv2 = tf.nn.conv2d(pool1, weights['wc2'], strides=[1, 1, 1, 1], padding='VALID')\n",
    "    conv2 = tf.nn.bias_add(conv2, biases['bc2'])\n",
    "    conv2 = tf.nn.relu(conv2)\n",
    "    # Layer 4: avg pooling\n",
    "    pool2 = tf.nn.avg_pool(conv2, ksize=[1, 2, 2, 1], strides=[1, 2, 2, 1], padding='SAME')\n",
    "    # Layer 5: Inception \n",
    "    incept1 = inception2d(pool2, in_channel=16, filter_count=6)\n",
    "    # Layer 6: Inception \n",
    "    #incept2 = inception2d(incept1, in_channel=34, filter_count=6)\n",
    "    # Layer 7: flatten\n",
    "    flat = flatten(incept1)\n",
    "    # Layer 8: Fully connected\n",
    "    fc1 = tf.add(tf.matmul(flat, weights['fc1']), biases['bfc1'])\n",
    "    fc1 = tf.nn.relu(fc1)\n",
    "    # Layer 8: Fully connected\n",
    "    fc2 = tf.add(tf.matmul(fc1, weights['fc2']), biases['bfc2'])\n",
    "    fc2 = tf.nn.relu(fc2)\n",
    "    # Layer 10: Fully connected\n",
    "    out = tf.add(tf.matmul(fc2, weights['out']), biases['out'])\n",
    "    \n",
    "    return out"
   ]
  },
  {
   "cell_type": "code",
   "execution_count": 8,
   "metadata": {
    "collapsed": true
   },
   "outputs": [],
   "source": [
    "# define placeholders \n",
    "x = tf.placeholder(tf.float32, [None, 32, 32, 3])\n",
    "y = tf.placeholder(tf.int32, [None])\n",
    "y_one_hot = tf.one_hot(y, 43)"
   ]
  },
  {
   "cell_type": "code",
   "execution_count": 9,
   "metadata": {
    "collapsed": true
   },
   "outputs": [],
   "source": [
    "# training pipeline\n",
    "EPOCHS = 10\n",
    "BATCH_SIZE = 128\n",
    "learning_rate = 0.001\n",
    "\n",
    "logits = Inception(x)\n",
    "cross_entropy = tf.nn.softmax_cross_entropy_with_logits(logits, y_one_hot)\n",
    "loss = tf.reduce_mean(cross_entropy)\n",
    "optimizer = tf.train.AdamOptimizer(learning_rate)\n",
    "train_step = optimizer.minimize(loss)\n",
    "\n",
    "# model evaluation\n",
    "correct_prediction = tf.equal(tf.argmax(logits, 1), tf.argmax(y_one_hot, 1))\n",
    "accuracy = tf.reduce_mean(tf.cast(correct_prediction, tf.float32))\n",
    "saver = tf.train.Saver()"
   ]
  },
  {
   "cell_type": "code",
   "execution_count": 10,
   "metadata": {
    "collapsed": true
   },
   "outputs": [],
   "source": [
    "def evaluate(X_data, y_data):\n",
    "    num_examples = len(X_data)\n",
    "    total_accuracy = 0\n",
    "    sess = tf.get_default_session()\n",
    "    for offset in range(0, num_examples, BATCH_SIZE):\n",
    "        batch_x, batch_y = X_data[offset:offset + BATCH_SIZE], y_data[offset:offset + BATCH_SIZE]\n",
    "        batch_accuracy = sess.run(accuracy, feed_dict={x: batch_x, y: batch_y})\n",
    "        total_accuracy += batch_accuracy*len(batch_x)\n",
    "    return total_accuracy/num_examples"
   ]
  },
  {
   "cell_type": "code",
   "execution_count": 11,
   "metadata": {
    "collapsed": true
   },
   "outputs": [],
   "source": [
    "train_writer = tf.summary.FileWriter('./summaries/inception/plot_train')\n",
    "valid_writer = tf.summary.FileWriter('./summaries/inception/plot_valid')\n",
    "\n",
    "tf.summary.scalar('accuracy', accuracy)\n",
    "tf.summary.scalar('loss', loss)\n",
    "write_op = tf.summary.merge_all()"
   ]
  },
  {
   "cell_type": "code",
   "execution_count": 12,
   "metadata": {},
   "outputs": [
    {
     "name": "stdout",
     "output_type": "stream",
     "text": [
      "Training...\n",
      "\n",
      "EPOCH :   1, STEP :     0, Train Accuracy: 0.008 Train Loss: 3.904\n",
      "EPOCH :   1, STEP :   100, Train Accuracy: 0.172 Train Loss: 3.073\n",
      "EPOCH :   1, STEP :   200, Train Accuracy: 0.445 Train Loss: 2.168\n",
      "Validation Accuracy = 0.360\n",
      "EPOCH :   2, STEP :     0, Train Accuracy: 0.492 Train Loss: 1.634\n",
      "EPOCH :   2, STEP :   100, Train Accuracy: 0.727 Train Loss: 1.068\n",
      "EPOCH :   2, STEP :   200, Train Accuracy: 0.703 Train Loss: 0.940\n",
      "Validation Accuracy = 0.566\n",
      "EPOCH :   3, STEP :     0, Train Accuracy: 0.781 Train Loss: 0.729\n",
      "EPOCH :   3, STEP :   100, Train Accuracy: 0.859 Train Loss: 0.504\n",
      "EPOCH :   3, STEP :   200, Train Accuracy: 0.836 Train Loss: 0.531\n",
      "Validation Accuracy = 0.640\n",
      "EPOCH :   4, STEP :     0, Train Accuracy: 0.867 Train Loss: 0.442\n",
      "EPOCH :   4, STEP :   100, Train Accuracy: 0.859 Train Loss: 0.486\n",
      "EPOCH :   4, STEP :   200, Train Accuracy: 0.844 Train Loss: 0.426\n",
      "Validation Accuracy = 0.665\n",
      "EPOCH :   5, STEP :     0, Train Accuracy: 0.875 Train Loss: 0.390\n",
      "EPOCH :   5, STEP :   100, Train Accuracy: 0.898 Train Loss: 0.440\n",
      "EPOCH :   5, STEP :   200, Train Accuracy: 0.875 Train Loss: 0.421\n",
      "Validation Accuracy = 0.673\n",
      "EPOCH :   6, STEP :     0, Train Accuracy: 0.922 Train Loss: 0.229\n",
      "EPOCH :   6, STEP :   100, Train Accuracy: 0.883 Train Loss: 0.351\n",
      "EPOCH :   6, STEP :   200, Train Accuracy: 0.891 Train Loss: 0.338\n",
      "Validation Accuracy = 0.703\n",
      "EPOCH :   7, STEP :     0, Train Accuracy: 0.984 Train Loss: 0.106\n",
      "EPOCH :   7, STEP :   100, Train Accuracy: 0.953 Train Loss: 0.156\n",
      "EPOCH :   7, STEP :   200, Train Accuracy: 0.945 Train Loss: 0.129\n",
      "Validation Accuracy = 0.699\n",
      "EPOCH :   8, STEP :     0, Train Accuracy: 0.961 Train Loss: 0.147\n",
      "EPOCH :   8, STEP :   100, Train Accuracy: 0.938 Train Loss: 0.290\n",
      "EPOCH :   8, STEP :   200, Train Accuracy: 0.953 Train Loss: 0.105\n",
      "Validation Accuracy = 0.705\n",
      "EPOCH :   9, STEP :     0, Train Accuracy: 0.977 Train Loss: 0.101\n",
      "EPOCH :   9, STEP :   100, Train Accuracy: 0.969 Train Loss: 0.143\n",
      "EPOCH :   9, STEP :   200, Train Accuracy: 0.984 Train Loss: 0.050\n",
      "Validation Accuracy = 0.710\n",
      "EPOCH :  10, STEP :     0, Train Accuracy: 0.953 Train Loss: 0.115\n",
      "EPOCH :  10, STEP :   100, Train Accuracy: 0.984 Train Loss: 0.053\n",
      "EPOCH :  10, STEP :   200, Train Accuracy: 0.984 Train Loss: 0.064\n",
      "Validation Accuracy = 0.723\n"
     ]
    }
   ],
   "source": [
    "# train the model\n",
    "from sklearn.utils import shuffle\n",
    "import random\n",
    "\n",
    "with tf.Session() as sess:\n",
    "    sess.run(tf.global_variables_initializer())\n",
    "    num_examples = len(X_train)\n",
    "    \n",
    "    print(\"Training...\")\n",
    "    print()\n",
    "    for i in range(EPOCHS):\n",
    "        X_train_preprocessed, y_train = shuffle(X_train_preprocessed, y_train)\n",
    "        \n",
    "        for counter, offset in enumerate(range(0, num_examples, BATCH_SIZE)):\n",
    "            batch_x, batch_y = X_train_preprocessed[offset: offset + BATCH_SIZE], y_train[offset: offset + BATCH_SIZE]\n",
    "            merge = tf.summary.merge_all()\n",
    "            batch_loss, batch_acc, _ = sess.run([loss, accuracy, train_step], \n",
    "                                                feed_dict={x: batch_x, y: batch_y})\n",
    "            if counter % 100 == 0:\n",
    "                print(\"EPOCH : {:>3}, STEP : {:>5}, Train Accuracy: {:.3f} Train Loss: {:.3f}\".\n",
    "                      format(i+1, counter,batch_acc, batch_loss))\n",
    "        \n",
    "        # log training and validation accuracy\n",
    "        train_index = random.sample(range(num_examples), 5000)\n",
    "        summary = sess.run(write_op, feed_dict={x: X_train_preprocessed[train_index], y: y_train[train_index]})\n",
    "        train_writer.add_summary(summary, i)\n",
    "        train_writer.flush()\n",
    "        \n",
    "        summary = sess.run(write_op, feed_dict={x: X_valid_preprocessed, y: y_valid})\n",
    "        valid_writer.add_summary(summary, i)\n",
    "        valid_writer.flush()\n",
    "                \n",
    "        validation_accuracy = evaluate(X_valid_preprocessed, y_valid)\n",
    "        print(\"Validation Accuracy = {:.3f}\".format(validation_accuracy))"
   ]
  },
  {
   "cell_type": "code",
   "execution_count": null,
   "metadata": {
    "collapsed": true
   },
   "outputs": [],
   "source": []
  },
  {
   "cell_type": "code",
   "execution_count": null,
   "metadata": {
    "collapsed": true
   },
   "outputs": [],
   "source": []
  },
  {
   "cell_type": "code",
   "execution_count": null,
   "metadata": {
    "collapsed": true
   },
   "outputs": [],
   "source": []
  },
  {
   "cell_type": "code",
   "execution_count": null,
   "metadata": {
    "collapsed": true
   },
   "outputs": [],
   "source": []
  },
  {
   "cell_type": "code",
   "execution_count": null,
   "metadata": {
    "collapsed": true
   },
   "outputs": [],
   "source": []
  },
  {
   "cell_type": "code",
   "execution_count": 169,
   "metadata": {
    "collapsed": true
   },
   "outputs": [],
   "source": [
    "### Define your architecture here.\n",
    "import tensorflow as tf\n",
    "from tensorflow.contrib.layers import flatten\n",
    "\n",
    "tf.reset_default_graph()\n",
    "\n",
    "def LeNet(x):\n",
    "    mu = 0\n",
    "    sigma = 0.1\n",
    "    weights = {\n",
    "        'wc1' : tf.Variable(tf.truncated_normal([5, 5, 3, 6], mu, sigma)),\n",
    "        'wc2' : tf.Variable(tf.truncated_normal([5, 5, 6, 16], mu, sigma)),\n",
    "        'fc1' : tf.Variable(tf.truncated_normal([400, 120], mu, sigma)),\n",
    "        'fc2' : tf.Variable(tf.truncated_normal([120, 80], mu, sigma)),\n",
    "        'out' : tf.Variable(tf.truncated_normal([80, 43], mu, sigma))\n",
    "    }\n",
    "    biases = {\n",
    "        'bc1' : tf.Variable(tf.truncated_normal([6], mu, sigma)),\n",
    "        'bc2' : tf.Variable(tf.truncated_normal([16], mu, sigma)),\n",
    "        'bfc1' : tf.Variable(tf.truncated_normal([120], mu, sigma)),\n",
    "        'bfc2' : tf.Variable(tf.truncated_normal([80], mu, sigma)),\n",
    "        'out' : tf.Variable(tf.truncated_normal([43], mu, sigma))\n",
    "    }\n",
    "    # Layer 1: convolutional layer\n",
    "    conv1 = tf.nn.conv2d(x, weights['wc1'], strides=[1, 1, 1, 1], padding='VALID')\n",
    "    conv1 = tf.nn.bias_add(conv1, biases['bc1'])\n",
    "    conv1 = tf.nn.relu(conv1)\n",
    "    \n",
    "    # Layer 2: avg pooling\n",
    "    pool1 = tf.nn.avg_pool(conv1, ksize=[1, 2, 2, 1], strides=[1, 2, 2, 1], padding='SAME')\n",
    "    \n",
    "    # Layer 3: convolutional layer\n",
    "    conv2 = tf.nn.conv2d(pool1, weights['wc2'], strides=[1, 1, 1, 1], padding='VALID')\n",
    "    conv2 = tf.nn.bias_add(conv2, biases['bc2'])\n",
    "    conv2 = tf.nn.relu(conv2)\n",
    "    \n",
    "    # Layer 4: avg pooling\n",
    "    pool2 = tf.nn.avg_pool(conv2, ksize=[1, 2, 2, 1], strides=[1, 2, 2, 1], padding='SAME')\n",
    "    \n",
    "    # Layer 5: flatten\n",
    "    flat = flatten(pool2)\n",
    "    \n",
    "    # Layer 6: Fully connected\n",
    "    fc1 = tf.add(tf.matmul(flat, weights['fc1']), biases['bfc1'])\n",
    "    fc1 = tf.nn.relu(fc1)\n",
    "    \n",
    "    # Layer 7: Fully connected\n",
    "    fc2 = tf.add(tf.matmul(fc1, weights['fc2']), biases['bfc2'])\n",
    "    fc2 = tf.nn.relu(fc2)\n",
    "    \n",
    "    # Layer 8: Fully connected\n",
    "    out = tf.add(tf.matmul(fc2, weights['out']), biases['out'])\n",
    "        \n",
    "    return out"
   ]
  },
  {
   "cell_type": "code",
   "execution_count": 170,
   "metadata": {
    "collapsed": true
   },
   "outputs": [],
   "source": [
    "# define placeholders \n",
    "x = tf.placeholder(tf.float32, [None, 32, 32, 3])\n",
    "y = tf.placeholder(tf.int32, [None])\n",
    "y_one_hot = tf.one_hot(y, 43)"
   ]
  },
  {
   "cell_type": "code",
   "execution_count": 171,
   "metadata": {
    "collapsed": true
   },
   "outputs": [],
   "source": [
    "# training pipeline\n",
    "EPOCHS = 10\n",
    "BATCH_SIZE = 128\n",
    "learning_rate = 0.001\n",
    "\n",
    "logits = classifier(x)\n",
    "cross_entropy = tf.nn.softmax_cross_entropy_with_logits(logits, y_one_hot)\n",
    "train_loss = tf.reduce_mean(cross_entropy)\n",
    "optimizer = tf.train.AdamOptimizer(learning_rate)\n",
    "train_step = optimizer.minimize(train_loss)\n"
   ]
  },
  {
   "cell_type": "code",
   "execution_count": 172,
   "metadata": {
    "collapsed": true
   },
   "outputs": [],
   "source": [
    "# model evaluation\n",
    "correct_prediction = tf.equal(tf.argmax(logits, 1), tf.argmax(y_one_hot, 1))\n",
    "accuracy = tf.reduce_mean(tf.cast(correct_prediction, tf.float32))\n",
    "saver = tf.train.Saver()\n",
    "\n",
    "def evaluate(X_data, y_data):\n",
    "    num_examples = len(X_data)\n",
    "    total_accuracy = 0\n",
    "    sess = tf.get_default_session()\n",
    "    for offset in range(0, num_examples, BATCH_SIZE):\n",
    "        batch_x, batch_y = X_data[offset:offset + BATCH_SIZE], y_data[offset:offset + BATCH_SIZE]\n",
    "        batch_accuracy = sess.run(accuracy, feed_dict={x: batch_x, y: batch_y})\n",
    "        total_accuracy += batch_accuracy*len(batch_x)\n",
    "    return total_accuracy/num_examples"
   ]
  },
  {
   "cell_type": "code",
   "execution_count": 173,
   "metadata": {
    "scrolled": false
   },
   "outputs": [
    {
     "name": "stdout",
     "output_type": "stream",
     "text": [
      "Training...\n",
      "\n",
      "EPOCH :   1, STEP :     0, Train Accuracy: 0.023 Train Loss: 23.931\n",
      "EPOCH :   1, STEP :   100, Train Accuracy: 0.484 Train Loss: 1.762\n",
      "EPOCH :   1, STEP :   200, Train Accuracy: 0.773 Train Loss: 0.830\n",
      "Validation Accuracy = 0.768\n",
      "EPOCH :   2, STEP :     0, Train Accuracy: 0.852 Train Loss: 0.511\n",
      "EPOCH :   2, STEP :   100, Train Accuracy: 0.898 Train Loss: 0.348\n",
      "EPOCH :   2, STEP :   200, Train Accuracy: 0.898 Train Loss: 0.457\n",
      "Validation Accuracy = 0.856\n",
      "EPOCH :   3, STEP :     0, Train Accuracy: 0.938 Train Loss: 0.204\n",
      "EPOCH :   3, STEP :   100, Train Accuracy: 0.969 Train Loss: 0.105\n",
      "EPOCH :   3, STEP :   200, Train Accuracy: 0.961 Train Loss: 0.135\n",
      "Validation Accuracy = 0.855\n",
      "EPOCH :   4, STEP :     0, Train Accuracy: 0.953 Train Loss: 0.149\n",
      "EPOCH :   4, STEP :   100, Train Accuracy: 0.945 Train Loss: 0.164\n",
      "EPOCH :   4, STEP :   200, Train Accuracy: 0.961 Train Loss: 0.121\n",
      "Validation Accuracy = 0.871\n",
      "EPOCH :   5, STEP :     0, Train Accuracy: 0.977 Train Loss: 0.108\n",
      "EPOCH :   5, STEP :   100, Train Accuracy: 0.977 Train Loss: 0.088\n",
      "EPOCH :   5, STEP :   200, Train Accuracy: 0.953 Train Loss: 0.136\n",
      "Validation Accuracy = 0.878\n",
      "EPOCH :   6, STEP :     0, Train Accuracy: 0.992 Train Loss: 0.048\n",
      "EPOCH :   6, STEP :   100, Train Accuracy: 0.984 Train Loss: 0.061\n",
      "EPOCH :   6, STEP :   200, Train Accuracy: 1.000 Train Loss: 0.024\n",
      "Validation Accuracy = 0.889\n",
      "EPOCH :   7, STEP :     0, Train Accuracy: 0.992 Train Loss: 0.069\n",
      "EPOCH :   7, STEP :   100, Train Accuracy: 0.961 Train Loss: 0.130\n",
      "EPOCH :   7, STEP :   200, Train Accuracy: 0.977 Train Loss: 0.064\n",
      "Validation Accuracy = 0.904\n",
      "EPOCH :   8, STEP :     0, Train Accuracy: 0.977 Train Loss: 0.137\n",
      "EPOCH :   8, STEP :   100, Train Accuracy: 0.969 Train Loss: 0.145\n",
      "EPOCH :   8, STEP :   200, Train Accuracy: 0.984 Train Loss: 0.100\n",
      "Validation Accuracy = 0.900\n",
      "EPOCH :   9, STEP :     0, Train Accuracy: 0.984 Train Loss: 0.052\n",
      "EPOCH :   9, STEP :   100, Train Accuracy: 0.992 Train Loss: 0.032\n",
      "EPOCH :   9, STEP :   200, Train Accuracy: 0.984 Train Loss: 0.074\n",
      "Validation Accuracy = 0.896\n",
      "EPOCH :  10, STEP :     0, Train Accuracy: 0.977 Train Loss: 0.045\n",
      "EPOCH :  10, STEP :   100, Train Accuracy: 1.000 Train Loss: 0.023\n",
      "EPOCH :  10, STEP :   200, Train Accuracy: 0.992 Train Loss: 0.031\n",
      "Validation Accuracy = 0.910\n"
     ]
    }
   ],
   "source": [
    "# train the model\n",
    "from sklearn.utils import shuffle\n",
    "\n",
    "with tf.Session() as sess:\n",
    "    sess.run(tf.global_variables_initializer())\n",
    "    num_examples = len(X_train)\n",
    "    \n",
    "    print(\"Training...\")\n",
    "    print()\n",
    "    for i in range(EPOCHS):\n",
    "        X_train, y_train = shuffle(X_train, y_train)\n",
    "        \n",
    "        for counter, offset in enumerate(range(0, num_examples, BATCH_SIZE)):\n",
    "            batch_x, batch_y = X_train[offset: offset + BATCH_SIZE], y_train[offset: offset + BATCH_SIZE]\n",
    "            batch_loss, batch_acc, _ = sess.run([train_loss, accuracy, train_step], feed_dict={x: batch_x, y: batch_y})\n",
    "            if counter % 100 == 0:\n",
    "                print(\"EPOCH : {:>3}, STEP : {:>5}, Train Accuracy: {:.3f} Train Loss: {:.3f}\".\n",
    "                      format(i+1, counter,batch_acc, batch_loss))\n",
    "                \n",
    "        validation_accuracy = evaluate(X_valid, y_valid)\n",
    "        print(\"Validation Accuracy = {:.3f}\".format(validation_accuracy))"
   ]
  },
  {
   "cell_type": "code",
   "execution_count": 151,
   "metadata": {},
   "outputs": [
    {
     "data": {
      "text/plain": [
       "(4410,)"
      ]
     },
     "execution_count": 151,
     "metadata": {},
     "output_type": "execute_result"
    }
   ],
   "source": [
    "y_valid.shape"
   ]
  },
  {
   "cell_type": "code",
   "execution_count": 140,
   "metadata": {},
   "outputs": [
    {
     "data": {
      "text/plain": [
       "[0, 1, 2, 3, 4]"
      ]
     },
     "execution_count": 140,
     "metadata": {},
     "output_type": "execute_result"
    }
   ],
   "source": [
    "[i for i, x in enumerate(range(0,10,2))]"
   ]
  },
  {
   "cell_type": "code",
   "execution_count": null,
   "metadata": {
    "collapsed": true
   },
   "outputs": [],
   "source": [
    "en"
   ]
  },
  {
   "cell_type": "code",
   "execution_count": null,
   "metadata": {
    "collapsed": true
   },
   "outputs": [],
   "source": []
  },
  {
   "cell_type": "code",
   "execution_count": null,
   "metadata": {
    "collapsed": true
   },
   "outputs": [],
   "source": []
  },
  {
   "cell_type": "code",
   "execution_count": null,
   "metadata": {
    "collapsed": true
   },
   "outputs": [],
   "source": []
  },
  {
   "cell_type": "code",
   "execution_count": null,
   "metadata": {
    "collapsed": true
   },
   "outputs": [],
   "source": []
  },
  {
   "cell_type": "code",
   "execution_count": null,
   "metadata": {
    "collapsed": true
   },
   "outputs": [],
   "source": []
  },
  {
   "cell_type": "code",
   "execution_count": null,
   "metadata": {
    "collapsed": true
   },
   "outputs": [],
   "source": []
  },
  {
   "cell_type": "markdown",
   "metadata": {},
   "source": [
    "### Train, Validate and Test the Model"
   ]
  },
  {
   "cell_type": "markdown",
   "metadata": {},
   "source": [
    "A validation set can be used to assess how well the model is performing. A low accuracy on the training and validation\n",
    "sets imply underfitting. A high accuracy on the training set but low accuracy on the validation set implies overfitting."
   ]
  },
  {
   "cell_type": "code",
   "execution_count": 1,
   "metadata": {
    "collapsed": true
   },
   "outputs": [],
   "source": [
    "### Train your model here.\n",
    "### Calculate and report the accuracy on the training and validation set.\n",
    "### Once a final model architecture is selected, \n",
    "### the accuracy on the test set should be calculated and reported as well.\n",
    "### Feel free to use as many code cells as needed."
   ]
  },
  {
   "cell_type": "markdown",
   "metadata": {},
   "source": [
    "---\n",
    "\n",
    "## Step 3: Test a Model on New Images\n",
    "\n",
    "To give yourself more insight into how your model is working, download at least five pictures of German traffic signs from the web and use your model to predict the traffic sign type.\n",
    "\n",
    "You may find `signnames.csv` useful as it contains mappings from the class id (integer) to the actual sign name."
   ]
  },
  {
   "cell_type": "markdown",
   "metadata": {},
   "source": [
    "### Load and Output the Images"
   ]
  },
  {
   "cell_type": "code",
   "execution_count": null,
   "metadata": {
    "collapsed": true
   },
   "outputs": [],
   "source": [
    "### Load the images and plot them here.\n",
    "### Feel free to use as many code cells as needed."
   ]
  },
  {
   "cell_type": "markdown",
   "metadata": {},
   "source": [
    "### Predict the Sign Type for Each Image"
   ]
  },
  {
   "cell_type": "code",
   "execution_count": 3,
   "metadata": {
    "collapsed": true
   },
   "outputs": [],
   "source": [
    "### Run the predictions here and use the model to output the prediction for each image.\n",
    "### Make sure to pre-process the images with the same pre-processing pipeline used earlier.\n",
    "### Feel free to use as many code cells as needed."
   ]
  },
  {
   "cell_type": "markdown",
   "metadata": {},
   "source": [
    "### Analyze Performance"
   ]
  },
  {
   "cell_type": "code",
   "execution_count": 4,
   "metadata": {
    "collapsed": true
   },
   "outputs": [],
   "source": [
    "### Calculate the accuracy for these 5 new images. \n",
    "### For example, if the model predicted 1 out of 5 signs correctly, it's 20% accurate on these new images."
   ]
  },
  {
   "cell_type": "markdown",
   "metadata": {},
   "source": [
    "### Output Top 5 Softmax Probabilities For Each Image Found on the Web"
   ]
  },
  {
   "cell_type": "markdown",
   "metadata": {},
   "source": [
    "For each of the new images, print out the model's softmax probabilities to show the **certainty** of the model's predictions (limit the output to the top 5 probabilities for each image). [`tf.nn.top_k`](https://www.tensorflow.org/versions/r0.12/api_docs/python/nn.html#top_k) could prove helpful here. \n",
    "\n",
    "The example below demonstrates how tf.nn.top_k can be used to find the top k predictions for each image.\n",
    "\n",
    "`tf.nn.top_k` will return the values and indices (class ids) of the top k predictions. So if k=3, for each sign, it'll return the 3 largest probabilities (out of a possible 43) and the correspoding class ids.\n",
    "\n",
    "Take this numpy array as an example. The values in the array represent predictions. The array contains softmax probabilities for five candidate images with six possible classes. `tf.nn.top_k` is used to choose the three classes with the highest probability:\n",
    "\n",
    "```\n",
    "# (5, 6) array\n",
    "a = np.array([[ 0.24879643,  0.07032244,  0.12641572,  0.34763842,  0.07893497,\n",
    "         0.12789202],\n",
    "       [ 0.28086119,  0.27569815,  0.08594638,  0.0178669 ,  0.18063401,\n",
    "         0.15899337],\n",
    "       [ 0.26076848,  0.23664738,  0.08020603,  0.07001922,  0.1134371 ,\n",
    "         0.23892179],\n",
    "       [ 0.11943333,  0.29198961,  0.02605103,  0.26234032,  0.1351348 ,\n",
    "         0.16505091],\n",
    "       [ 0.09561176,  0.34396535,  0.0643941 ,  0.16240774,  0.24206137,\n",
    "         0.09155967]])\n",
    "```\n",
    "\n",
    "Running it through `sess.run(tf.nn.top_k(tf.constant(a), k=3))` produces:\n",
    "\n",
    "```\n",
    "TopKV2(values=array([[ 0.34763842,  0.24879643,  0.12789202],\n",
    "       [ 0.28086119,  0.27569815,  0.18063401],\n",
    "       [ 0.26076848,  0.23892179,  0.23664738],\n",
    "       [ 0.29198961,  0.26234032,  0.16505091],\n",
    "       [ 0.34396535,  0.24206137,  0.16240774]]), indices=array([[3, 0, 5],\n",
    "       [0, 1, 4],\n",
    "       [0, 5, 1],\n",
    "       [1, 3, 5],\n",
    "       [1, 4, 3]], dtype=int32))\n",
    "```\n",
    "\n",
    "Looking just at the first row we get `[ 0.34763842,  0.24879643,  0.12789202]`, you can confirm these are the 3 largest probabilities in `a`. You'll also notice `[3, 0, 5]` are the corresponding indices."
   ]
  },
  {
   "cell_type": "code",
   "execution_count": 3,
   "metadata": {
    "collapsed": true
   },
   "outputs": [],
   "source": [
    "### Print out the top five softmax probabilities for the predictions on the German traffic sign images found on the web. \n",
    "### Feel free to use as many code cells as needed."
   ]
  },
  {
   "cell_type": "markdown",
   "metadata": {},
   "source": [
    "### Project Writeup\n",
    "\n",
    "Once you have completed the code implementation, document your results in a project writeup using this [template](https://github.com/udacity/CarND-Traffic-Sign-Classifier-Project/blob/master/writeup_template.md) as a guide. The writeup can be in a markdown or pdf file. "
   ]
  },
  {
   "cell_type": "markdown",
   "metadata": {},
   "source": [
    "> **Note**: Once you have completed all of the code implementations and successfully answered each question above, you may finalize your work by exporting the iPython Notebook as an HTML document. You can do this by using the menu above and navigating to  \\n\",\n",
    "    \"**File -> Download as -> HTML (.html)**. Include the finished document along with this notebook as your submission."
   ]
  },
  {
   "cell_type": "markdown",
   "metadata": {},
   "source": [
    "---\n",
    "\n",
    "## Step 4 (Optional): Visualize the Neural Network's State with Test Images\n",
    "\n",
    " This Section is not required to complete but acts as an additional excersise for understaning the output of a neural network's weights. While neural networks can be a great learning device they are often referred to as a black box. We can understand what the weights of a neural network look like better by plotting their feature maps. After successfully training your neural network you can see what it's feature maps look like by plotting the output of the network's weight layers in response to a test stimuli image. From these plotted feature maps, it's possible to see what characteristics of an image the network finds interesting. For a sign, maybe the inner network feature maps react with high activation to the sign's boundary outline or to the contrast in the sign's painted symbol.\n",
    "\n",
    " Provided for you below is the function code that allows you to get the visualization output of any tensorflow weight layer you want. The inputs to the function should be a stimuli image, one used during training or a new one you provided, and then the tensorflow variable name that represents the layer's state during the training process, for instance if you wanted to see what the [LeNet lab's](https://classroom.udacity.com/nanodegrees/nd013/parts/fbf77062-5703-404e-b60c-95b78b2f3f9e/modules/6df7ae49-c61c-4bb2-a23e-6527e69209ec/lessons/601ae704-1035-4287-8b11-e2c2716217ad/concepts/d4aca031-508f-4e0b-b493-e7b706120f81) feature maps looked like for it's second convolutional layer you could enter conv2 as the tf_activation variable.\n",
    "\n",
    "For an example of what feature map outputs look like, check out NVIDIA's results in their paper [End-to-End Deep Learning for Self-Driving Cars](https://devblogs.nvidia.com/parallelforall/deep-learning-self-driving-cars/) in the section Visualization of internal CNN State. NVIDIA was able to show that their network's inner weights had high activations to road boundary lines by comparing feature maps from an image with a clear path to one without. Try experimenting with a similar test to show that your trained network's weights are looking for interesting features, whether it's looking at differences in feature maps from images with or without a sign, or even what feature maps look like in a trained network vs a completely untrained one on the same sign image.\n",
    "\n",
    "<figure>\n",
    " <img src=\"visualize_cnn.png\" width=\"380\" alt=\"Combined Image\" />\n",
    " <figcaption>\n",
    " <p></p> \n",
    " <p style=\"text-align: center;\"> Your output should look something like this (above)</p> \n",
    " </figcaption>\n",
    "</figure>\n",
    " <p></p> \n"
   ]
  },
  {
   "cell_type": "code",
   "execution_count": null,
   "metadata": {
    "collapsed": true
   },
   "outputs": [],
   "source": [
    "### Visualize your network's feature maps here.\n",
    "### Feel free to use as many code cells as needed.\n",
    "\n",
    "# image_input: the test image being fed into the network to produce the feature maps\n",
    "# tf_activation: should be a tf variable name used during your training procedure that represents the calculated state of a specific weight layer\n",
    "# activation_min/max: can be used to view the activation contrast in more detail, by default matplot sets min and max to the actual min and max values of the output\n",
    "# plt_num: used to plot out multiple different weight feature map sets on the same block, just extend the plt number for each new feature map entry\n",
    "\n",
    "def outputFeatureMap(image_input, tf_activation, activation_min=-1, activation_max=-1 ,plt_num=1):\n",
    "    # Here make sure to preprocess your image_input in a way your network expects\n",
    "    # with size, normalization, ect if needed\n",
    "    # image_input =\n",
    "    # Note: x should be the same name as your network's tensorflow data placeholder variable\n",
    "    # If you get an error tf_activation is not defined it may be having trouble accessing the variable from inside a function\n",
    "    activation = tf_activation.eval(session=sess,feed_dict={x : image_input})\n",
    "    featuremaps = activation.shape[3]\n",
    "    plt.figure(plt_num, figsize=(15,15))\n",
    "    for featuremap in range(featuremaps):\n",
    "        plt.subplot(6,8, featuremap+1) # sets the number of feature maps to show on each row and column\n",
    "        plt.title('FeatureMap ' + str(featuremap)) # displays the feature map number\n",
    "        if activation_min != -1 & activation_max != -1:\n",
    "            plt.imshow(activation[0,:,:, featuremap], interpolation=\"nearest\", vmin =activation_min, vmax=activation_max, cmap=\"gray\")\n",
    "        elif activation_max != -1:\n",
    "            plt.imshow(activation[0,:,:, featuremap], interpolation=\"nearest\", vmax=activation_max, cmap=\"gray\")\n",
    "        elif activation_min !=-1:\n",
    "            plt.imshow(activation[0,:,:, featuremap], interpolation=\"nearest\", vmin=activation_min, cmap=\"gray\")\n",
    "        else:\n",
    "            plt.imshow(activation[0,:,:, featuremap], interpolation=\"nearest\", cmap=\"gray\")"
   ]
  }
 ],
 "metadata": {
  "anaconda-cloud": {},
  "kernelspec": {
   "display_name": "Python 3",
   "language": "python",
   "name": "python3"
  },
  "language_info": {
   "codemirror_mode": {
    "name": "ipython",
    "version": 3
   },
   "file_extension": ".py",
   "mimetype": "text/x-python",
   "name": "python",
   "nbconvert_exporter": "python",
   "pygments_lexer": "ipython3",
   "version": "3.5.2"
  },
  "widgets": {
   "state": {},
   "version": "1.1.2"
  }
 },
 "nbformat": 4,
 "nbformat_minor": 1
}
